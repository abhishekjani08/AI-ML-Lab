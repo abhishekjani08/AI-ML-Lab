{
 "cells": [
  {
   "cell_type": "code",
   "execution_count": null,
   "metadata": {
    "id": "s8iR9T_zXIDm"
   },
   "outputs": [],
   "source": [
    "# import the pandas library\n",
    "import pandas as pd\n",
    "import numpy as np\n",
    "from sklearn.preprocessing import OneHotEncoder"
   ]
  },
  {
   "cell_type": "code",
   "execution_count": null,
   "metadata": {
    "id": "xEddDRE8XPs-"
   },
   "outputs": [],
   "source": [
    "# read csv\n",
    "df = pd.read_csv(\"diabetes_prediction_dataset.csv\")"
   ]
  },
  {
   "cell_type": "code",
   "execution_count": null,
   "metadata": {
    "colab": {
     "base_uri": "https://localhost:8080/"
    },
    "id": "3ofAAJMYXYsO",
    "outputId": "019a0472-16c5-4ada-c7ca-b30c7893e011"
   },
   "outputs": [
    {
     "name": "stdout",
     "output_type": "stream",
     "text": [
      "(100000, 9)\n"
     ]
    }
   ],
   "source": [
    "\n",
    "# To print no. of samples and attributes\n",
    "print(df.shape)"
   ]
  },
  {
   "cell_type": "code",
   "execution_count": null,
   "metadata": {
    "colab": {
     "base_uri": "https://localhost:8080/"
    },
    "id": "-_YpiNK7YPOV",
    "outputId": "2d1301cc-13cd-49cb-b45f-aaa3894de1b3"
   },
   "outputs": [
    {
     "name": "stdout",
     "output_type": "stream",
     "text": [
      "['gender', 'age', 'hypertension', 'heart_disease', 'smoking_history', 'bmi', 'HbA1c_level', 'blood_glucose_level', 'diabetes']\n"
     ]
    }
   ],
   "source": [
    "# getting the columns of the dataset\n",
    "columns = list(df.columns)\n",
    "print(columns)"
   ]
  },
  {
   "cell_type": "code",
   "execution_count": null,
   "metadata": {
    "colab": {
     "base_uri": "https://localhost:8080/"
    },
    "id": "SaJXiBetYQh9",
    "outputId": "5ffe203a-f0e5-4d3e-df34-9e300e7ae2d7"
   },
   "outputs": [
    {
     "name": "stdout",
     "output_type": "stream",
     "text": [
      "   gender   age  hypertension  heart_disease smoking_history    bmi  \\\n",
      "0  Female  80.0             0              1           never  25.19   \n",
      "1  Female  54.0             0              0         No Info  27.32   \n",
      "2    Male  28.0             0              0           never  27.32   \n",
      "3  Female  36.0             0              0         current  23.45   \n",
      "4    Male  76.0             1              1         current  20.14   \n",
      "\n",
      "   HbA1c_level  blood_glucose_level  diabetes  \n",
      "0          6.6                  140         0  \n",
      "1          6.6                   80         0  \n",
      "2          5.7                  158         0  \n",
      "3          5.0                  155         0  \n",
      "4          4.8                  155         0  \n"
     ]
    }
   ],
   "source": [
    "# To print first five samples\n",
    "print(df.head())"
   ]
  },
  {
   "cell_type": "code",
   "execution_count": null,
   "metadata": {
    "colab": {
     "base_uri": "https://localhost:8080/"
    },
    "id": "UGub1kfFYStN",
    "outputId": "ef7d3714-7347-484c-9049-a6461da41385"
   },
   "outputs": [
    {
     "name": "stdout",
     "output_type": "stream",
     "text": [
      "gender                 0\n",
      "age                    0\n",
      "hypertension           0\n",
      "heart_disease          0\n",
      "smoking_history        0\n",
      "bmi                    0\n",
      "HbA1c_level            0\n",
      "blood_glucose_level    0\n",
      "diabetes               0\n",
      "dtype: int64\n",
      "Missing values distribution: \n",
      "gender                 0.0\n",
      "age                    0.0\n",
      "hypertension           0.0\n",
      "heart_disease          0.0\n",
      "smoking_history        0.0\n",
      "bmi                    0.0\n",
      "HbA1c_level            0.0\n",
      "blood_glucose_level    0.0\n",
      "diabetes               0.0\n",
      "dtype: float64\n"
     ]
    }
   ],
   "source": [
    "#New dataframe\n",
    "new_df = df\n",
    "#new_df.isnull()\n",
    "#Checking for null values\n",
    "print(new_df.isnull().sum())\n",
    "print(\"Missing values distribution: \")\n",
    "print(new_df.isnull().mean())\n",
    "#print(new_df.shape)\n",
    "#new_df.duplicated()"
   ]
  },
  {
   "cell_type": "code",
   "execution_count": null,
   "metadata": {
    "colab": {
     "base_uri": "https://localhost:8080/"
    },
    "id": "0psrVD88YWEN",
    "outputId": "7d229575-577c-42ef-c109-f5fa3ea5aa04"
   },
   "outputs": [
    {
     "name": "stdout",
     "output_type": "stream",
     "text": [
      "True\n",
      "0        False\n",
      "1        False\n",
      "2        False\n",
      "3        False\n",
      "4        False\n",
      "         ...  \n",
      "99995     True\n",
      "99996    False\n",
      "99997    False\n",
      "99998    False\n",
      "99999    False\n",
      "Length: 100000, dtype: bool\n",
      "(100000, 9)\n"
     ]
    }
   ],
   "source": [
    "# #Checking for duplicates\n",
    "print(new_df.duplicated().any())\n",
    "print(new_df.duplicated())\n",
    "print(new_df.shape)"
   ]
  },
  {
   "cell_type": "code",
   "execution_count": null,
   "metadata": {
    "colab": {
     "base_uri": "https://localhost:8080/"
    },
    "id": "Om4qiW_gYX6F",
    "outputId": "4f6f5bed-a557-48ac-a348-60de20a8381a"
   },
   "outputs": [
    {
     "data": {
      "text/plain": [
       "0    96058\n",
       "1     3942\n",
       "Name: heart_disease, dtype: int64"
      ]
     },
     "execution_count": 16,
     "metadata": {},
     "output_type": "execute_result"
    }
   ],
   "source": [
    "df['gender'].value_counts()\n",
    "df['heart_disease'].value_counts()"
   ]
  },
  {
   "cell_type": "code",
   "execution_count": null,
   "metadata": {
    "colab": {
     "base_uri": "https://localhost:8080/"
    },
    "id": "ymwcmNCkaJDl",
    "outputId": "34f1ca7e-19b7-405f-bda6-8fc0a7108204"
   },
   "outputs": [
    {
     "name": "stdout",
     "output_type": "stream",
     "text": [
      "        age  hypertension smoking_history    bmi  HbA1c_level  \\\n",
      "0      80.0             0           never  25.19          6.6   \n",
      "1      54.0             0         No Info  27.32          6.6   \n",
      "2      28.0             0           never  27.32          5.7   \n",
      "3      36.0             0         current  23.45          5.0   \n",
      "4      76.0             1         current  20.14          4.8   \n",
      "...     ...           ...             ...    ...          ...   \n",
      "99995  80.0             0         No Info  27.32          6.2   \n",
      "99996   2.0             0         No Info  17.37          6.5   \n",
      "99997  66.0             0          former  27.83          5.7   \n",
      "99998  24.0             0           never  35.42          4.0   \n",
      "99999  57.0             0         current  22.43          6.6   \n",
      "\n",
      "       blood_glucose_level  diabetes  gender_Female  gender_Male  \\\n",
      "0                      140         0              1            0   \n",
      "1                       80         0              1            0   \n",
      "2                      158         0              0            1   \n",
      "3                      155         0              1            0   \n",
      "4                      155         0              0            1   \n",
      "...                    ...       ...            ...          ...   \n",
      "99995                   90         0              1            0   \n",
      "99996                  100         0              1            0   \n",
      "99997                  155         0              0            1   \n",
      "99998                  100         0              1            0   \n",
      "99999                   90         0              1            0   \n",
      "\n",
      "       gender_Other  heart_disease_0  heart_disease_1  \n",
      "0                 0                0                1  \n",
      "1                 0                1                0  \n",
      "2                 0                1                0  \n",
      "3                 0                1                0  \n",
      "4                 0                0                1  \n",
      "...             ...              ...              ...  \n",
      "99995             0                1                0  \n",
      "99996             0                1                0  \n",
      "99997             0                1                0  \n",
      "99998             0                1                0  \n",
      "99999             0                1                0  \n",
      "\n",
      "[100000 rows x 12 columns]\n"
     ]
    }
   ],
   "source": [
    "one_hot_encoded_data = pd.get_dummies(df, columns = ['gender', 'heart_disease'])\n",
    "print(one_hot_encoded_data)"
   ]
  },
  {
   "cell_type": "code",
   "execution_count": null,
   "metadata": {
    "colab": {
     "base_uri": "https://localhost:8080/"
    },
    "id": "njnTWCrYaaKF",
    "outputId": "8efb6c17-bb78-45f3-a643-a3dd2434509d"
   },
   "outputs": [
    {
     "name": "stdout",
     "output_type": "stream",
     "text": [
      "['Female' 'Male' 'Other']\n",
      "[1 0]\n"
     ]
    }
   ],
   "source": [
    "print(df['gender'].unique())\n",
    "print(df['heart_disease'].unique())"
   ]
  },
  {
   "cell_type": "code",
   "execution_count": null,
   "metadata": {
    "colab": {
     "base_uri": "https://localhost:8080/"
    },
    "id": "Nkl3ndH3aqvc",
    "outputId": "dbf3014f-eb7d-49b2-9817-c0b46a1c6aec"
   },
   "outputs": [
    {
     "name": "stdout",
     "output_type": "stream",
     "text": [
      "[1 0]\n"
     ]
    }
   ],
   "source": [
    "print(df['heart_disease'].unique())"
   ]
  },
  {
   "cell_type": "code",
   "execution_count": null,
   "metadata": {
    "id": "qgfqo2IpawNF"
   },
   "outputs": [],
   "source": []
  }
 ],
 "metadata": {
  "colab": {
   "provenance": []
  },
  "kernelspec": {
   "display_name": "Python 3 (ipykernel)",
   "language": "python",
   "name": "python3"
  },
  "language_info": {
   "codemirror_mode": {
    "name": "ipython",
    "version": 3
   },
   "file_extension": ".py",
   "mimetype": "text/x-python",
   "name": "python",
   "nbconvert_exporter": "python",
   "pygments_lexer": "ipython3",
   "version": "3.10.2"
  }
 },
 "nbformat": 4,
 "nbformat_minor": 1
}

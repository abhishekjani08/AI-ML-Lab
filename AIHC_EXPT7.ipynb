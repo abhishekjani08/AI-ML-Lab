{
  "nbformat": 4,
  "nbformat_minor": 0,
  "metadata": {
    "colab": {
      "provenance": []
    },
    "kernelspec": {
      "name": "python3",
      "display_name": "Python 3"
    },
    "language_info": {
      "name": "python"
    }
  },
  "cells": [
    {
      "cell_type": "code",
      "source": [
        "import requests\n",
        "from bs4 import BeautifulSoup\n",
        "import nltk\n",
        "from nltk.sentiment import SentimentIntensityAnalyzer\n",
        "from nltk.tokenize import word_tokenize, sent_tokenize\n",
        "from nltk.corpus import stopwords\n",
        "\n",
        "# Ensure necessary NLTK datasets/libraries are downloaded\n",
        "nltk.download('vader_lexicon')\n",
        "nltk.download('stopwords')\n",
        "\n",
        "# Define the URL of the webpage containing medical reviews\n",
        "url = 'https://www.who.int/health-topics/coronavirus'\n",
        "\n",
        "# Set the user-agent header\n",
        "headers = {'User-Agent': 'Mozilla/5.0 (Windows NT 10.0; WOW64) AppleWebKit/537.36 (KHTML, like Gecko) Chrome/118.0.0.0 Safari/537.36'}\n",
        "\n",
        "# Send an HTTP GET request to the URL with the custom user-agent header\n",
        "response = requests.get(url, headers=headers)\n",
        "\n",
        "# Parse the HTML content using BeautifulSoup\n",
        "soup = BeautifulSoup(response.content, 'html.parser')\n",
        "reviews = soup.find_all('div', class_='review-container')  # Adjust based on your webpage's structure\n",
        "\n",
        "# Initialize NLTK's sentiment analyzer\n",
        "sia = SentimentIntensityAnalyzer()\n",
        "\n",
        "for review in reviews:\n",
        "    # Extract the review text\n",
        "    review_text = review.find('p', class_='review-text').text  # Adjust based on your webpage's structure\n",
        "\n",
        "    # Tokenize the review text\n",
        "    tokens = word_tokenize(review_text)\n",
        "\n",
        "    # Remove stopwords\n",
        "    stop_words = set(stopwords.words('english'))\n",
        "    filtered_tokens = [word for word in tokens if word.lower() not in stop_words]\n",
        "\n",
        "    # Calculate sentiment scores\n",
        "    sentiment_scores = sia.polarity_scores(review_text)\n",
        "\n",
        "    print(\"Review Text:\")\n",
        "    print(review_text)\n",
        "    print(\"\\nTokens:\")\n",
        "    print(filtered_tokens)\n",
        "    print(\"\\nSentiment Scores:\")\n",
        "    print(sentiment_scores)\n",
        "    print(\"\\n---\\n\")\n"
      ],
      "metadata": {
        "id": "Wry2XYhzfnXD",
        "colab": {
          "base_uri": "https://localhost:8080/"
        },
        "outputId": "b1c1bff8-a014-405e-c4a7-22b314b580c2"
      },
      "execution_count": 5,
      "outputs": [
        {
          "output_type": "stream",
          "name": "stderr",
          "text": [
            "[nltk_data] Downloading package vader_lexicon to /root/nltk_data...\n",
            "[nltk_data]   Package vader_lexicon is already up-to-date!\n",
            "[nltk_data] Downloading package stopwords to /root/nltk_data...\n",
            "[nltk_data]   Package stopwords is already up-to-date!\n"
          ]
        }
      ]
    },
    {
      "cell_type": "code",
      "source": [],
      "metadata": {
        "id": "SwZiNl-c8kJm"
      },
      "execution_count": null,
      "outputs": []
    }
  ]
}